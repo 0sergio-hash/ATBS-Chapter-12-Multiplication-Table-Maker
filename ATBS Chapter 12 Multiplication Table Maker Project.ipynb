{
 "cells": [
  {
   "cell_type": "markdown",
   "metadata": {},
   "source": [
    "# [Instructions for this project](https://automatetheboringstuff.com/2e/chapter12/)"
   ]
  },
  {
   "cell_type": "code",
   "execution_count": null,
   "metadata": {},
   "outputs": [],
   "source": [
    "#! python3\n",
    "# Practice project: Multiplication Table Maker\n",
    "\n",
    "import openpyxl, sys\n",
    "from openpyxl.styles import Font\n",
    "from openpyxl.utils import get_column_letter , column_index_from_string\n",
    "\n",
    "# Take number from command line\n",
    "N = int(sys.argv[1])\n",
    "\n",
    "# Create an excel document\n",
    "wb = openpyxl.Workbook()\n",
    "sheet = wb.active\n",
    "\n",
    "# Populate column A in bold\n",
    "\n",
    "bold = Font(bold = True)\n",
    "aCellObjects = sheet['A2':'A' + str(N+1)]\n",
    "\n",
    "for enum, rowOfCellObjects in enumerate(aCellObjects):\n",
    "    for cellObject in rowOfCellObjects:\n",
    "        cellObject.value = enum + 1\n",
    "        cellObject.font = bold        \n",
    "    \n",
    "# Populate row 1 in bold\n",
    "oneRowObjects = sheet['B1':get_column_letter(N+1) + '1']\n",
    "for rowObject in oneRowObjects:\n",
    "    for enum, obj in enumerate(rowObject):\n",
    "        obj.value = enum + 1\n",
    "        obj.font = bold\n",
    "\n",
    "# Starting at B2, make a NxN selection\n",
    "\n",
    "multTable = sheet['B2':get_column_letter(N+1) + str(N+1)]\n",
    "\n",
    "# Loop through and multiply\n",
    "for rowEnum, rowObj in enumerate(multTable):\n",
    "    for cellEnum, cellObj in enumerate(rowObj):\n",
    "        cellObj.value = (rowEnum+1) * (cellEnum+1)\n",
    "\n",
    "# TODO: Save workbook\n",
    "wbName = f'Python Multiplication table {N}.xlsx'\n",
    "wb.save(wbName)\n",
    "\n",
    "print(wbName + ' saved to your documents!')"
   ]
  }
 ],
 "metadata": {
  "kernelspec": {
   "display_name": "ibm_project",
   "language": "python",
   "name": "ibm_project"
  },
  "language_info": {
   "codemirror_mode": {
    "name": "ipython",
    "version": 3
   },
   "file_extension": ".py",
   "mimetype": "text/x-python",
   "name": "python",
   "nbconvert_exporter": "python",
   "pygments_lexer": "ipython3",
   "version": "3.7.9"
  }
 },
 "nbformat": 4,
 "nbformat_minor": 4
}
